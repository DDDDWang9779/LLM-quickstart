{
 "cells": [
  {
   "cell_type": "code",
   "execution_count": 1,
   "id": "a3cda981-f5fb-474f-8237-79c75b12bee3",
   "metadata": {},
   "outputs": [
    {
     "name": "stderr",
     "output_type": "stream",
     "text": [
      "/Users/wdt123/miniconda3/envs/transformers/lib/python3.11/site-packages/tqdm/auto.py:21: TqdmWarning: IProgress not found. Please update jupyter and ipywidgets. See https://ipywidgets.readthedocs.io/en/stable/user_install.html\n",
      "  from .autonotebook import tqdm as notebook_tqdm\n"
     ]
    }
   ],
   "source": [
    "from transformers import pipeline"
   ]
  },
  {
   "cell_type": "markdown",
   "id": "3c706248-2724-4799-b9b0-a7b91eac2f62",
   "metadata": {},
   "source": [
    "### 情感分析"
   ]
  },
  {
   "cell_type": "code",
   "execution_count": 2,
   "id": "3022e333-1b3c-4d52-bc91-5ad5c74c9085",
   "metadata": {},
   "outputs": [
    {
     "name": "stderr",
     "output_type": "stream",
     "text": [
      "config.json: 100%|██████████| 933/933 [00:00<00:00, 1.41MB/s]\n",
      "model.safetensors: 100%|██████████| 328M/328M [00:20<00:00, 16.4MB/s] \n",
      "tokenizer_config.json: 100%|██████████| 333/333 [00:00<00:00, 949kB/s]\n",
      "vocab.json: 100%|██████████| 798k/798k [00:00<00:00, 856kB/s]\n",
      "merges.txt: 100%|██████████| 456k/456k [00:00<00:00, 2.26MB/s]\n",
      "tokenizer.json: 100%|██████████| 1.36M/1.36M [00:00<00:00, 5.18MB/s]\n",
      "special_tokens_map.json: 100%|██████████| 239/239 [00:00<00:00, 662kB/s]\n"
     ]
    }
   ],
   "source": [
    "sa = pipeline(model=\"mrm8488/distilroberta-finetuned-financial-news-sentiment-analysis\")"
   ]
  },
  {
   "cell_type": "code",
   "execution_count": 3,
   "id": "3ad745d2-870e-4c24-8fb4-ad51b7739f68",
   "metadata": {},
   "outputs": [
    {
     "data": {
      "text/plain": [
       "[{'label': 'neutral', 'score': 0.9998723268508911}]"
      ]
     },
     "execution_count": 3,
     "metadata": {},
     "output_type": "execute_result"
    }
   ],
   "source": [
    "sa(\"你可真厉害呀\")"
   ]
  },
  {
   "cell_type": "code",
   "execution_count": 5,
   "id": "78eeba3f-08d7-4fd2-968c-aa7adccfecdc",
   "metadata": {},
   "outputs": [
    {
     "data": {
      "text/plain": [
       "[{'label': 'neutral', 'score': 0.9995038509368896},\n",
       " {'label': 'neutral', 'score': 0.9998717308044434},\n",
       " {'label': 'neutral', 'score': 0.9996144771575928},\n",
       " {'label': 'neutral', 'score': 0.9992039799690247},\n",
       " {'label': 'neutral', 'score': 0.9998691082000732},\n",
       " {'label': 'neutral', 'score': 0.9998598098754883}]"
      ]
     },
     "execution_count": 5,
     "metadata": {},
     "output_type": "execute_result"
    }
   ],
   "source": [
    "text_list=[\n",
    "    \"this is ridiculous\",\n",
    "    \"you are dope\",\n",
    "    \"you are numb\",\n",
    "    \"she is so pretty\",\n",
    "    \"他会七十二变\",\n",
    "    \"他长得像薛之谦\"\n",
    "]\n",
    "sa(text_list)"
   ]
  },
  {
   "cell_type": "code",
   "execution_count": 6,
   "id": "c4061ca4-8998-4115-9e7d-c77664ee4193",
   "metadata": {},
   "outputs": [
    {
     "data": {
      "text/plain": [
       "[{'label': 'positive', 'score': 0.990673840045929}]"
      ]
     },
     "execution_count": 6,
     "metadata": {},
     "output_type": "execute_result"
    }
   ],
   "source": [
    "sa('Technology players like IBM and Huawei have partnered with financial services, manufacturing, and services industries in Singapore to develop and deliver new solutions for the region and beyond')"
   ]
  },
  {
   "cell_type": "code",
   "execution_count": 7,
   "id": "5179c63b-cfb0-4ab4-858e-8fceacffed50",
   "metadata": {},
   "outputs": [
    {
     "name": "stderr",
     "output_type": "stream",
     "text": [
      "config.json: 100%|██████████| 759/759 [00:00<00:00, 1.76MB/s]\n",
      "model.safetensors: 100%|██████████| 541M/541M [00:32<00:00, 16.8MB/s] \n",
      "tokenizer_config.json: 100%|██████████| 373/373 [00:00<00:00, 659kB/s]\n",
      "vocab.txt: 100%|██████████| 996k/996k [00:01<00:00, 960kB/s]\n",
      "tokenizer.json: 100%|██████████| 2.92M/2.92M [00:00<00:00, 5.39MB/s]\n",
      "special_tokens_map.json: 100%|██████████| 125/125 [00:00<00:00, 330kB/s]\n"
     ]
    }
   ],
   "source": [
    "sa1 = pipeline(model=\"lxyuan/distilbert-base-multilingual-cased-sentiments-student\")"
   ]
  },
  {
   "cell_type": "code",
   "execution_count": 8,
   "id": "cb47556a-e414-4bca-bf0e-a100673287d9",
   "metadata": {},
   "outputs": [
    {
     "data": {
      "text/plain": [
       "[{'label': 'positive', 'score': 0.4566130042076111}]"
      ]
     },
     "execution_count": 8,
     "metadata": {},
     "output_type": "execute_result"
    }
   ],
   "source": [
    "sa1(\"you are dope\")"
   ]
  },
  {
   "cell_type": "code",
   "execution_count": 13,
   "id": "a54527b5-f05b-40d9-a3e4-3e37c02d3cb6",
   "metadata": {},
   "outputs": [
    {
     "data": {
      "text/plain": [
       "[{'label': 'positive', 'score': 0.40828853845596313},\n",
       " {'label': 'positive', 'score': 0.47269031405448914},\n",
       " {'label': 'negative', 'score': 0.8564503192901611},\n",
       " {'label': 'positive', 'score': 0.6057180762290955},\n",
       " {'label': 'negative', 'score': 0.6612024903297424},\n",
       " {'label': 'positive', 'score': 0.5209166407585144},\n",
       " {'label': 'positive', 'score': 0.5793511867523193},\n",
       " {'label': 'negative', 'score': 0.8936205506324768},\n",
       " {'label': 'positive', 'score': 0.6173049807548523}]"
      ]
     },
     "execution_count": 13,
     "metadata": {},
     "output_type": "execute_result"
    }
   ],
   "source": [
    "text_list1=[\n",
    "    \"take it or leave it\",\n",
    "    \"You asked for it\",\n",
    "    \"What an idiot!\",\n",
    "    \"Suit yourself\",\n",
    "    \"you are a dumbass\",\n",
    "    \"she is so pretty\",\n",
    "    \"You’ve got me there\",\n",
    "    \"You are so stupid\"\n",
    "    \"他会七十二变\",\n",
    "    \"他长得像薛之谦\"\n",
    "]\n",
    "sa1(text_list1)"
   ]
  },
  {
   "cell_type": "markdown",
   "id": "8d6eb886-8dda-4dd6-8795-378b8d5badcc",
   "metadata": {},
   "source": [
    "### token classification"
   ]
  },
  {
   "cell_type": "code",
   "execution_count": 16,
   "id": "1f803942-1a97-4732-b02b-f6ee23308aaf",
   "metadata": {},
   "outputs": [
    {
     "name": "stderr",
     "output_type": "stream",
     "text": [
      "config.json: 100%|██████████| 1.26k/1.26k [00:00<00:00, 2.13MB/s]\n",
      "model.safetensors: 100%|██████████| 438M/438M [00:23<00:00, 18.7MB/s] \n",
      "Some weights of the model checkpoint at dslim/bert-base-NER-uncased were not used when initializing BertForTokenClassification: ['bert.pooler.dense.weight', 'bert.pooler.dense.bias']\n",
      "- This IS expected if you are initializing BertForTokenClassification from the checkpoint of a model trained on another task or with another architecture (e.g. initializing a BertForSequenceClassification model from a BertForPreTraining model).\n",
      "- This IS NOT expected if you are initializing BertForTokenClassification from the checkpoint of a model that you expect to be exactly identical (initializing a BertForSequenceClassification model from a BertForSequenceClassification model).\n",
      "tokenizer_config.json: 100%|██████████| 39.0/39.0 [00:00<00:00, 127kB/s]\n",
      "vocab.txt: 100%|██████████| 232k/232k [00:00<00:00, 433kB/s]\n",
      "special_tokens_map.json: 100%|██████████| 112/112 [00:00<00:00, 331kB/s]\n"
     ]
    }
   ],
   "source": [
    "from transformers import pipeline\n",
    "tc=pipeline(model=\"dslim/bert-base-NER-uncased\")"
   ]
  },
  {
   "cell_type": "code",
   "execution_count": 17,
   "id": "5dc643ae-d15c-435c-9936-be28a50da07a",
   "metadata": {},
   "outputs": [
    {
     "data": {
      "text/plain": [
       "[{'entity': 'B-LOC',\n",
       "  'score': 0.96781397,\n",
       "  'index': 6,\n",
       "  'word': 'asia',\n",
       "  'start': 26,\n",
       "  'end': 30},\n",
       " {'entity': 'B-LOC',\n",
       "  'score': 0.9978259,\n",
       "  'index': 8,\n",
       "  'word': 'singapore',\n",
       "  'start': 32,\n",
       "  'end': 41},\n",
       " {'entity': 'B-MISC',\n",
       "  'score': 0.7803881,\n",
       "  'index': 19,\n",
       "  'word': 'ict',\n",
       "  'start': 109,\n",
       "  'end': 112}]"
      ]
     },
     "execution_count": 17,
     "metadata": {},
     "output_type": "execute_result"
    }
   ],
   "source": [
    "tc('As the digital capital of Asia, Singapore is the preferred base for Information & Communications Technology (ICT) firms')"
   ]
  },
  {
   "cell_type": "code",
   "execution_count": 18,
   "id": "25b02b93-ea39-4e5c-916f-56e71474bd99",
   "metadata": {},
   "outputs": [
    {
     "name": "stderr",
     "output_type": "stream",
     "text": [
      "No model was supplied, defaulted to dbmdz/bert-large-cased-finetuned-conll03-english and revision f2482bf (https://huggingface.co/dbmdz/bert-large-cased-finetuned-conll03-english).\n",
      "Using a pipeline without specifying a model name and revision in production is not recommended.\n",
      "Some weights of the model checkpoint at dbmdz/bert-large-cased-finetuned-conll03-english were not used when initializing BertForTokenClassification: ['bert.pooler.dense.weight', 'bert.pooler.dense.bias']\n",
      "- This IS expected if you are initializing BertForTokenClassification from the checkpoint of a model trained on another task or with another architecture (e.g. initializing a BertForSequenceClassification model from a BertForPreTraining model).\n",
      "- This IS NOT expected if you are initializing BertForTokenClassification from the checkpoint of a model that you expect to be exactly identical (initializing a BertForSequenceClassification model from a BertForSequenceClassification model).\n"
     ]
    },
    {
     "data": {
      "text/plain": [
       "[{'entity': 'I-LOC',\n",
       "  'score': 0.99710923,\n",
       "  'index': 6,\n",
       "  'word': 'Asia',\n",
       "  'start': 26,\n",
       "  'end': 30},\n",
       " {'entity': 'I-LOC',\n",
       "  'score': 0.9997843,\n",
       "  'index': 8,\n",
       "  'word': 'Singapore',\n",
       "  'start': 32,\n",
       "  'end': 41},\n",
       " {'entity': 'I-ORG',\n",
       "  'score': 0.99733704,\n",
       "  'index': 14,\n",
       "  'word': 'Information',\n",
       "  'start': 68,\n",
       "  'end': 79},\n",
       " {'entity': 'I-ORG',\n",
       "  'score': 0.9967225,\n",
       "  'index': 15,\n",
       "  'word': '&',\n",
       "  'start': 80,\n",
       "  'end': 81},\n",
       " {'entity': 'I-ORG',\n",
       "  'score': 0.9979861,\n",
       "  'index': 16,\n",
       "  'word': 'Communications',\n",
       "  'start': 82,\n",
       "  'end': 96},\n",
       " {'entity': 'I-ORG',\n",
       "  'score': 0.9865645,\n",
       "  'index': 17,\n",
       "  'word': 'Technology',\n",
       "  'start': 97,\n",
       "  'end': 107},\n",
       " {'entity': 'I-ORG',\n",
       "  'score': 0.8350159,\n",
       "  'index': 19,\n",
       "  'word': 'I',\n",
       "  'start': 109,\n",
       "  'end': 110},\n",
       " {'entity': 'I-ORG',\n",
       "  'score': 0.9332727,\n",
       "  'index': 20,\n",
       "  'word': '##CT',\n",
       "  'start': 110,\n",
       "  'end': 112}]"
      ]
     },
     "execution_count": 18,
     "metadata": {},
     "output_type": "execute_result"
    }
   ],
   "source": [
    "classifier = pipeline(task=\"ner\")\n",
    "classifier('As the digital capital of Asia, Singapore is the preferred base for Information & Communications Technology (ICT) firms')"
   ]
  },
  {
   "cell_type": "markdown",
   "id": "8765e738-ebc3-4b6f-a0c8-b5892069fcf6",
   "metadata": {},
   "source": [
    "### 问答"
   ]
  },
  {
   "cell_type": "code",
   "execution_count": 19,
   "id": "bef98e53-61f4-484e-855c-f0274dd7464b",
   "metadata": {},
   "outputs": [
    {
     "name": "stderr",
     "output_type": "stream",
     "text": [
      "config.json: 100%|██████████| 571/571 [00:00<00:00, 985kB/s]\n",
      "model.safetensors: 100%|██████████| 496M/496M [00:26<00:00, 18.8MB/s] \n",
      "tokenizer_config.json: 100%|██████████| 79.0/79.0 [00:00<00:00, 401kB/s]\n",
      "vocab.json: 100%|██████████| 899k/899k [00:00<00:00, 2.42MB/s]\n",
      "merges.txt: 100%|██████████| 456k/456k [00:00<00:00, 1.77MB/s]\n",
      "special_tokens_map.json: 100%|██████████| 772/772 [00:00<00:00, 4.00MB/s]\n"
     ]
    }
   ],
   "source": [
    "question_answerer = pipeline(task=\"question-answering\", model=\"deepset/roberta-base-squad2\")"
   ]
  },
  {
   "cell_type": "code",
   "execution_count": 20,
   "id": "2f8b8b80-46e2-4328-a05f-920feb24c31b",
   "metadata": {},
   "outputs": [
    {
     "name": "stdout",
     "output_type": "stream",
     "text": [
      "score: 0.4681, start: 14, end: 107, answer: a decentralized distributed ledger technology designed to record transactions and information\n"
     ]
    }
   ],
   "source": [
    "preds = question_answerer(\n",
    "    question=\"what is blockchain\",\n",
    "    context=\"Blockchain is a decentralized distributed ledger technology designed to record transactions and information. Originally created for Bitcoin, it is now widely applied across various fields. Here are key concepts and features of blockchain\",\n",
    ")\n",
    "print(\n",
    "    f\"score: {round(preds['score'], 4)}, start: {preds['start']}, end: {preds['end']}, answer: {preds['answer']}\"\n",
    ")"
   ]
  },
  {
   "cell_type": "markdown",
   "id": "f0233402-9188-4a0e-a40c-53c7d383f09a",
   "metadata": {},
   "source": [
    "### 摘要"
   ]
  },
  {
   "cell_type": "code",
   "execution_count": 21,
   "id": "6834d90c-1d60-4ea0-b814-d1be099e3037",
   "metadata": {},
   "outputs": [
    {
     "name": "stderr",
     "output_type": "stream",
     "text": [
      "/Users/wdt123/miniconda3/envs/transformers/lib/python3.11/site-packages/transformers/models/t5/tokenization_t5_fast.py:155: FutureWarning: This tokenizer was incorrectly instantiated with a model max length of 512 which will be corrected in Transformers v5.\n",
      "For now, this behavior is kept to avoid breaking backwards compatibility when padding/encoding with `truncation is True`.\n",
      "- Be aware that you SHOULD NOT rely on t5-base automatically truncating your input to 512 when padding/encoding.\n",
      "- If you want to encode/pad to sequences longer than 512 you can either instantiate this tokenizer with `model_max_length` or pass `max_length` when encoding/padding.\n",
      "- To avoid this warning, please instantiate this tokenizer with `model_max_length` set to your preferred value.\n",
      "  warnings.warn(\n"
     ]
    }
   ],
   "source": [
    "sum = pipeline(task=\"summarization\",\n",
    "                      model=\"t5-base\",\n",
    "                      min_length=8,\n",
    "                      max_length=32,\n",
    ")"
   ]
  },
  {
   "cell_type": "code",
   "execution_count": 25,
   "id": "1e01a8f6-c352-4aba-8880-63502f85f78e",
   "metadata": {},
   "outputs": [
    {
     "data": {
      "text/plain": [
       "[{'summary_text': 'blockchain is a decentralized distributed ledger technology designed to record transactions and information . originally created for Bitcoin, it is now widely applied across various fields'}]"
      ]
     },
     "execution_count": 25,
     "metadata": {},
     "output_type": "execute_result"
    }
   ],
   "source": [
    "sum('Blockchain is a decentralized distributed ledger technology designed to record transactions and information. Originally created for Bitcoin, it is now widely applied across various fields. Here are key concepts and features of blockchain:')"
   ]
  },
  {
   "cell_type": "code",
   "execution_count": null,
   "id": "2fe65bc0-8e60-4f68-9999-ee4bfe31d7bc",
   "metadata": {},
   "outputs": [],
   "source": []
  }
 ],
 "metadata": {
  "kernelspec": {
   "display_name": "Python 3 (ipykernel)",
   "language": "python",
   "name": "python3"
  },
  "language_info": {
   "codemirror_mode": {
    "name": "ipython",
    "version": 3
   },
   "file_extension": ".py",
   "mimetype": "text/x-python",
   "name": "python",
   "nbconvert_exporter": "python",
   "pygments_lexer": "ipython3",
   "version": "3.11.7"
  }
 },
 "nbformat": 4,
 "nbformat_minor": 5
}
