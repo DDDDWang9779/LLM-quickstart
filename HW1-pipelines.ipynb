{
 "cells": [
  {
   "cell_type": "code",
   "execution_count": 1,
   "id": "a3cda981-f5fb-474f-8237-79c75b12bee3",
   "metadata": {},
   "outputs": [
    {
     "name": "stderr",
     "output_type": "stream",
     "text": [
      "/Users/wdt123/miniconda3/envs/transformers/lib/python3.11/site-packages/tqdm/auto.py:21: TqdmWarning: IProgress not found. Please update jupyter and ipywidgets. See https://ipywidgets.readthedocs.io/en/stable/user_install.html\n",
      "  from .autonotebook import tqdm as notebook_tqdm\n"
     ]
    }
   ],
   "source": [
    "from transformers import pipeline"
   ]
  },
  {
   "cell_type": "markdown",
   "id": "3c706248-2724-4799-b9b0-a7b91eac2f62",
   "metadata": {},
   "source": [
    "### 情感分析"
   ]
  },
  {
   "cell_type": "code",
   "execution_count": 2,
   "id": "3022e333-1b3c-4d52-bc91-5ad5c74c9085",
   "metadata": {},
   "outputs": [
    {
     "name": "stderr",
     "output_type": "stream",
     "text": [
      "config.json: 100%|██████████| 933/933 [00:00<00:00, 1.41MB/s]\n",
      "model.safetensors: 100%|██████████| 328M/328M [00:20<00:00, 16.4MB/s] \n",
      "tokenizer_config.json: 100%|██████████| 333/333 [00:00<00:00, 949kB/s]\n",
      "vocab.json: 100%|██████████| 798k/798k [00:00<00:00, 856kB/s]\n",
      "merges.txt: 100%|██████████| 456k/456k [00:00<00:00, 2.26MB/s]\n",
      "tokenizer.json: 100%|██████████| 1.36M/1.36M [00:00<00:00, 5.18MB/s]\n",
      "special_tokens_map.json: 100%|██████████| 239/239 [00:00<00:00, 662kB/s]\n"
     ]
    }
   ],
   "source": [
    "sa = pipeline(model=\"mrm8488/distilroberta-finetuned-financial-news-sentiment-analysis\")"
   ]
  },
  {
   "cell_type": "code",
   "execution_count": 3,
   "id": "3ad745d2-870e-4c24-8fb4-ad51b7739f68",
   "metadata": {},
   "outputs": [
    {
     "data": {
      "text/plain": [
       "[{'label': 'neutral', 'score': 0.9998723268508911}]"
      ]
     },
     "execution_count": 3,
     "metadata": {},
     "output_type": "execute_result"
    }
   ],
   "source": [
    "sa(\"你可真厉害呀\")"
   ]
  },
  {
   "cell_type": "code",
   "execution_count": 5,
   "id": "78eeba3f-08d7-4fd2-968c-aa7adccfecdc",
   "metadata": {},
   "outputs": [
    {
     "data": {
      "text/plain": [
       "[{'label': 'neutral', 'score': 0.9995038509368896},\n",
       " {'label': 'neutral', 'score': 0.9998717308044434},\n",
       " {'label': 'neutral', 'score': 0.9996144771575928},\n",
       " {'label': 'neutral', 'score': 0.9992039799690247},\n",
       " {'label': 'neutral', 'score': 0.9998691082000732},\n",
       " {'label': 'neutral', 'score': 0.9998598098754883}]"
      ]
     },
     "execution_count": 5,
     "metadata": {},
     "output_type": "execute_result"
    }
   ],
   "source": [
    "text_list=[\n",
    "    \"this is ridiculous\",\n",
    "    \"you are dope\",\n",
    "    \"you are numb\",\n",
    "    \"she is so pretty\",\n",
    "    \"他会七十二变\",\n",
    "    \"他长得像薛之谦\"\n",
    "]\n",
    "sa(text_list)"
   ]
  },
  {
   "cell_type": "code",
   "execution_count": 6,
   "id": "c4061ca4-8998-4115-9e7d-c77664ee4193",
   "metadata": {},
   "outputs": [
    {
     "data": {
      "text/plain": [
       "[{'label': 'positive', 'score': 0.990673840045929}]"
      ]
     },
     "execution_count": 6,
     "metadata": {},
     "output_type": "execute_result"
    }
   ],
   "source": [
    "sa('Technology players like IBM and Huawei have partnered with financial services, manufacturing, and services industries in Singapore to develop and deliver new solutions for the region and beyond')"
   ]
  },
  {
   "cell_type": "code",
   "execution_count": 7,
   "id": "5179c63b-cfb0-4ab4-858e-8fceacffed50",
   "metadata": {},
   "outputs": [
    {
     "name": "stderr",
     "output_type": "stream",
     "text": [
      "config.json: 100%|██████████| 759/759 [00:00<00:00, 1.76MB/s]\n",
      "model.safetensors: 100%|██████████| 541M/541M [00:32<00:00, 16.8MB/s] \n",
      "tokenizer_config.json: 100%|██████████| 373/373 [00:00<00:00, 659kB/s]\n",
      "vocab.txt: 100%|██████████| 996k/996k [00:01<00:00, 960kB/s]\n",
      "tokenizer.json: 100%|██████████| 2.92M/2.92M [00:00<00:00, 5.39MB/s]\n",
      "special_tokens_map.json: 100%|██████████| 125/125 [00:00<00:00, 330kB/s]\n"
     ]
    }
   ],
   "source": [
    "sa1 = pipeline(model=\"lxyuan/distilbert-base-multilingual-cased-sentiments-student\")"
   ]
  },
  {
   "cell_type": "code",
   "execution_count": 8,
   "id": "cb47556a-e414-4bca-bf0e-a100673287d9",
   "metadata": {},
   "outputs": [
    {
     "data": {
      "text/plain": [
       "[{'label': 'positive', 'score': 0.4566130042076111}]"
      ]
     },
     "execution_count": 8,
     "metadata": {},
     "output_type": "execute_result"
    }
   ],
   "source": [
    "sa1(\"you are dope\")"
   ]
  },
  {
   "cell_type": "code",
   "execution_count": 13,
   "id": "a54527b5-f05b-40d9-a3e4-3e37c02d3cb6",
   "metadata": {},
   "outputs": [
    {
     "data": {
      "text/plain": [
       "[{'label': 'positive', 'score': 0.40828853845596313},\n",
       " {'label': 'positive', 'score': 0.47269031405448914},\n",
       " {'label': 'negative', 'score': 0.8564503192901611},\n",
       " {'label': 'positive', 'score': 0.6057180762290955},\n",
       " {'label': 'negative', 'score': 0.6612024903297424},\n",
       " {'label': 'positive', 'score': 0.5209166407585144},\n",
       " {'label': 'positive', 'score': 0.5793511867523193},\n",
       " {'label': 'negative', 'score': 0.8936205506324768},\n",
       " {'label': 'positive', 'score': 0.6173049807548523}]"
      ]
     },
     "execution_count": 13,
     "metadata": {},
     "output_type": "execute_result"
    }
   ],
   "source": [
    "text_list1=[\n",
    "    \"take it or leave it\",\n",
    "    \"You asked for it\",\n",
    "    \"What an idiot!\",\n",
    "    \"Suit yourself\",\n",
    "    \"you are a dumbass\",\n",
    "    \"she is so pretty\",\n",
    "    \"You’ve got me there\",\n",
    "    \"You are so stupid\"\n",
    "    \"他会七十二变\",\n",
    "    \"他长得像薛之谦\"\n",
    "]\n",
    "sa1(text_list1)"
   ]
  },
  {
   "cell_type": "markdown",
   "id": "8d6eb886-8dda-4dd6-8795-378b8d5badcc",
   "metadata": {},
   "source": [
    "### token classification"
   ]
  },
  {
   "cell_type": "code",
   "execution_count": 16,
   "id": "1f803942-1a97-4732-b02b-f6ee23308aaf",
   "metadata": {},
   "outputs": [
    {
     "name": "stderr",
     "output_type": "stream",
     "text": [
      "config.json: 100%|██████████| 1.26k/1.26k [00:00<00:00, 2.13MB/s]\n",
      "model.safetensors: 100%|██████████| 438M/438M [00:23<00:00, 18.7MB/s] \n",
      "Some weights of the model checkpoint at dslim/bert-base-NER-uncased were not used when initializing BertForTokenClassification: ['bert.pooler.dense.weight', 'bert.pooler.dense.bias']\n",
      "- This IS expected if you are initializing BertForTokenClassification from the checkpoint of a model trained on another task or with another architecture (e.g. initializing a BertForSequenceClassification model from a BertForPreTraining model).\n",
      "- This IS NOT expected if you are initializing BertForTokenClassification from the checkpoint of a model that you expect to be exactly identical (initializing a BertForSequenceClassification model from a BertForSequenceClassification model).\n",
      "tokenizer_config.json: 100%|██████████| 39.0/39.0 [00:00<00:00, 127kB/s]\n",
      "vocab.txt: 100%|██████████| 232k/232k [00:00<00:00, 433kB/s]\n",
      "special_tokens_map.json: 100%|██████████| 112/112 [00:00<00:00, 331kB/s]\n"
     ]
    }
   ],
   "source": [
    "from transformers import pipeline\n",
    "tc=pipeline(model=\"dslim/bert-base-NER-uncased\")"
   ]
  },
  {
   "cell_type": "code",
   "execution_count": 17,
   "id": "5dc643ae-d15c-435c-9936-be28a50da07a",
   "metadata": {},
   "outputs": [
    {
     "data": {
      "text/plain": [
       "[{'entity': 'B-LOC',\n",
       "  'score': 0.96781397,\n",
       "  'index': 6,\n",
       "  'word': 'asia',\n",
       "  'start': 26,\n",
       "  'end': 30},\n",
       " {'entity': 'B-LOC',\n",
       "  'score': 0.9978259,\n",
       "  'index': 8,\n",
       "  'word': 'singapore',\n",
       "  'start': 32,\n",
       "  'end': 41},\n",
       " {'entity': 'B-MISC',\n",
       "  'score': 0.7803881,\n",
       "  'index': 19,\n",
       "  'word': 'ict',\n",
       "  'start': 109,\n",
       "  'end': 112}]"
      ]
     },
     "execution_count": 17,
     "metadata": {},
     "output_type": "execute_result"
    }
   ],
   "source": [
    "tc('As the digital capital of Asia, Singapore is the preferred base for Information & Communications Technology (ICT) firms')"
   ]
  },
  {
   "cell_type": "code",
   "execution_count": 18,
   "id": "25b02b93-ea39-4e5c-916f-56e71474bd99",
   "metadata": {},
   "outputs": [
    {
     "name": "stderr",
     "output_type": "stream",
     "text": [
      "No model was supplied, defaulted to dbmdz/bert-large-cased-finetuned-conll03-english and revision f2482bf (https://huggingface.co/dbmdz/bert-large-cased-finetuned-conll03-english).\n",
      "Using a pipeline without specifying a model name and revision in production is not recommended.\n",
      "Some weights of the model checkpoint at dbmdz/bert-large-cased-finetuned-conll03-english were not used when initializing BertForTokenClassification: ['bert.pooler.dense.weight', 'bert.pooler.dense.bias']\n",
      "- This IS expected if you are initializing BertForTokenClassification from the checkpoint of a model trained on another task or with another architecture (e.g. initializing a BertForSequenceClassification model from a BertForPreTraining model).\n",
      "- This IS NOT expected if you are initializing BertForTokenClassification from the checkpoint of a model that you expect to be exactly identical (initializing a BertForSequenceClassification model from a BertForSequenceClassification model).\n"
     ]
    },
    {
     "data": {
      "text/plain": [
       "[{'entity': 'I-LOC',\n",
       "  'score': 0.99710923,\n",
       "  'index': 6,\n",
       "  'word': 'Asia',\n",
       "  'start': 26,\n",
       "  'end': 30},\n",
       " {'entity': 'I-LOC',\n",
       "  'score': 0.9997843,\n",
       "  'index': 8,\n",
       "  'word': 'Singapore',\n",
       "  'start': 32,\n",
       "  'end': 41},\n",
       " {'entity': 'I-ORG',\n",
       "  'score': 0.99733704,\n",
       "  'index': 14,\n",
       "  'word': 'Information',\n",
       "  'start': 68,\n",
       "  'end': 79},\n",
       " {'entity': 'I-ORG',\n",
       "  'score': 0.9967225,\n",
       "  'index': 15,\n",
       "  'word': '&',\n",
       "  'start': 80,\n",
       "  'end': 81},\n",
       " {'entity': 'I-ORG',\n",
       "  'score': 0.9979861,\n",
       "  'index': 16,\n",
       "  'word': 'Communications',\n",
       "  'start': 82,\n",
       "  'end': 96},\n",
       " {'entity': 'I-ORG',\n",
       "  'score': 0.9865645,\n",
       "  'index': 17,\n",
       "  'word': 'Technology',\n",
       "  'start': 97,\n",
       "  'end': 107},\n",
       " {'entity': 'I-ORG',\n",
       "  'score': 0.8350159,\n",
       "  'index': 19,\n",
       "  'word': 'I',\n",
       "  'start': 109,\n",
       "  'end': 110},\n",
       " {'entity': 'I-ORG',\n",
       "  'score': 0.9332727,\n",
       "  'index': 20,\n",
       "  'word': '##CT',\n",
       "  'start': 110,\n",
       "  'end': 112}]"
      ]
     },
     "execution_count": 18,
     "metadata": {},
     "output_type": "execute_result"
    }
   ],
   "source": [
    "classifier = pipeline(task=\"ner\")\n",
    "classifier('As the digital capital of Asia, Singapore is the preferred base for Information & Communications Technology (ICT) firms')"
   ]
  },
  {
   "cell_type": "markdown",
   "id": "8765e738-ebc3-4b6f-a0c8-b5892069fcf6",
   "metadata": {},
   "source": [
    "### 问答"
   ]
  },
  {
   "cell_type": "code",
   "execution_count": 19,
   "id": "bef98e53-61f4-484e-855c-f0274dd7464b",
   "metadata": {},
   "outputs": [
    {
     "name": "stderr",
     "output_type": "stream",
     "text": [
      "config.json: 100%|██████████| 571/571 [00:00<00:00, 985kB/s]\n",
      "model.safetensors: 100%|██████████| 496M/496M [00:26<00:00, 18.8MB/s] \n",
      "tokenizer_config.json: 100%|██████████| 79.0/79.0 [00:00<00:00, 401kB/s]\n",
      "vocab.json: 100%|██████████| 899k/899k [00:00<00:00, 2.42MB/s]\n",
      "merges.txt: 100%|██████████| 456k/456k [00:00<00:00, 1.77MB/s]\n",
      "special_tokens_map.json: 100%|██████████| 772/772 [00:00<00:00, 4.00MB/s]\n"
     ]
    }
   ],
   "source": [
    "question_answerer = pipeline(task=\"question-answering\", model=\"deepset/roberta-base-squad2\")"
   ]
  },
  {
   "cell_type": "code",
   "execution_count": 20,
   "id": "2f8b8b80-46e2-4328-a05f-920feb24c31b",
   "metadata": {},
   "outputs": [
    {
     "name": "stdout",
     "output_type": "stream",
     "text": [
      "score: 0.4681, start: 14, end: 107, answer: a decentralized distributed ledger technology designed to record transactions and information\n"
     ]
    }
   ],
   "source": [
    "preds = question_answerer(\n",
    "    question=\"what is blockchain\",\n",
    "    context=\"Blockchain is a decentralized distributed ledger technology designed to record transactions and information. Originally created for Bitcoin, it is now widely applied across various fields. Here are key concepts and features of blockchain\",\n",
    ")\n",
    "print(\n",
    "    f\"score: {round(preds['score'], 4)}, start: {preds['start']}, end: {preds['end']}, answer: {preds['answer']}\"\n",
    ")"
   ]
  },
  {
   "cell_type": "markdown",
   "id": "f0233402-9188-4a0e-a40c-53c7d383f09a",
   "metadata": {},
   "source": [
    "### 摘要"
   ]
  },
  {
   "cell_type": "code",
   "execution_count": 21,
   "id": "6834d90c-1d60-4ea0-b814-d1be099e3037",
   "metadata": {},
   "outputs": [
    {
     "name": "stderr",
     "output_type": "stream",
     "text": [
      "/Users/wdt123/miniconda3/envs/transformers/lib/python3.11/site-packages/transformers/models/t5/tokenization_t5_fast.py:155: FutureWarning: This tokenizer was incorrectly instantiated with a model max length of 512 which will be corrected in Transformers v5.\n",
      "For now, this behavior is kept to avoid breaking backwards compatibility when padding/encoding with `truncation is True`.\n",
      "- Be aware that you SHOULD NOT rely on t5-base automatically truncating your input to 512 when padding/encoding.\n",
      "- If you want to encode/pad to sequences longer than 512 you can either instantiate this tokenizer with `model_max_length` or pass `max_length` when encoding/padding.\n",
      "- To avoid this warning, please instantiate this tokenizer with `model_max_length` set to your preferred value.\n",
      "  warnings.warn(\n"
     ]
    }
   ],
   "source": [
    "sum = pipeline(task=\"summarization\",\n",
    "                      model=\"t5-base\",\n",
    "                      min_length=8,\n",
    "                      max_length=32,\n",
    ")"
   ]
  },
  {
   "cell_type": "code",
   "execution_count": 25,
   "id": "1e01a8f6-c352-4aba-8880-63502f85f78e",
   "metadata": {},
   "outputs": [
    {
     "data": {
      "text/plain": [
       "[{'summary_text': 'blockchain is a decentralized distributed ledger technology designed to record transactions and information . originally created for Bitcoin, it is now widely applied across various fields'}]"
      ]
     },
     "execution_count": 25,
     "metadata": {},
     "output_type": "execute_result"
    }
   ],
   "source": [
    "sum('Blockchain is a decentralized distributed ledger technology designed to record transactions and information. Originally created for Bitcoin, it is now widely applied across various fields. Here are key concepts and features of blockchain:')"
   ]
  },
  {
   "cell_type": "markdown",
   "id": "f46d6868-1275-4418-9b20-40cf0f902231",
   "metadata": {},
   "source": [
    "### 文本生成"
   ]
  },
  {
   "cell_type": "code",
   "execution_count": null,
   "id": "6db1131b-ac41-43b1-9045-31eef08bcd2d",
   "metadata": {},
   "outputs": [],
   "source": []
  },
  {
   "cell_type": "code",
   "execution_count": 29,
   "id": "7fbe2b98-7fad-49ca-a584-278ae026cb2e",
   "metadata": {},
   "outputs": [
    {
     "name": "stderr",
     "output_type": "stream",
     "text": [
      "Setting `pad_token_id` to `eos_token_id`:50256 for open-end generation.\n"
     ]
    },
    {
     "data": {
      "text/plain": [
       "[{'generated_text': 'She is beautiful. She has a lovely body, and she has the heart to make that happen.\\n\\nAs a mother, I have had a very interesting relationship with some of those people I know. I try to get them to understand that what'}]"
      ]
     },
     "execution_count": 29,
     "metadata": {},
     "output_type": "execute_result"
    }
   ],
   "source": [
    "from transformers import pipeline\n",
    "\n",
    "prompt = \"She is beautiful.\"\n",
    "generator = pipeline(task=\"text-generation\", model=\"gpt2\")\n",
    "generator(prompt)"
   ]
  },
  {
   "cell_type": "markdown",
   "id": "f3b43828-cc9c-41f6-aa2d-6853d47b45b8",
   "metadata": {},
   "source": [
    "### 文本补全"
   ]
  },
  {
   "cell_type": "code",
   "execution_count": 30,
   "id": "b31b720a-f070-42a1-bc2b-19387e23c857",
   "metadata": {},
   "outputs": [
    {
     "name": "stderr",
     "output_type": "stream",
     "text": [
      "config.json: 100%|██████████| 570/570 [00:00<00:00, 866kB/s]\n",
      "model.safetensors: 100%|██████████| 440M/440M [00:22<00:00, 19.5MB/s] \n",
      "Some weights of the model checkpoint at bert-base-uncased were not used when initializing BertForMaskedLM: ['bert.pooler.dense.weight', 'cls.seq_relationship.bias', 'bert.pooler.dense.bias', 'cls.seq_relationship.weight']\n",
      "- This IS expected if you are initializing BertForMaskedLM from the checkpoint of a model trained on another task or with another architecture (e.g. initializing a BertForSequenceClassification model from a BertForPreTraining model).\n",
      "- This IS NOT expected if you are initializing BertForMaskedLM from the checkpoint of a model that you expect to be exactly identical (initializing a BertForSequenceClassification model from a BertForSequenceClassification model).\n",
      "tokenizer_config.json: 100%|██████████| 28.0/28.0 [00:00<00:00, 87.8kB/s]\n",
      "vocab.txt: 100%|██████████| 232k/232k [00:00<00:00, 431kB/s]\n",
      "tokenizer.json: 100%|██████████| 466k/466k [00:00<00:00, 1.65MB/s]\n"
     ]
    }
   ],
   "source": [
    "fill_mask = pipeline(task=\"fill-mask\", model=\"bert-base-uncased\")"
   ]
  },
  {
   "cell_type": "code",
   "execution_count": 32,
   "id": "b2d0ae3e-0475-4c2a-b626-fb2ec622b35e",
   "metadata": {},
   "outputs": [
    {
     "data": {
      "text/plain": [
       "[{'score': 0.11438049376010895,\n",
       "  'token': 3000,\n",
       "  'token_str': 'paris',\n",
       "  'sequence': 'the most beautiful city in the world is paris.'},\n",
       " {'score': 0.05349884182214737,\n",
       "  'token': 3190,\n",
       "  'token_str': 'chicago',\n",
       "  'sequence': 'the most beautiful city in the world is chicago.'},\n",
       " {'score': 0.04903597757220268,\n",
       "  'token': 5522,\n",
       "  'token_str': 'tokyo',\n",
       "  'sequence': 'the most beautiful city in the world is tokyo.'},\n",
       " {'score': 0.04547394812107086,\n",
       "  'token': 2414,\n",
       "  'token_str': 'london',\n",
       "  'sequence': 'the most beautiful city in the world is london.'},\n",
       " {'score': 0.026339443400502205,\n",
       "  'token': 5862,\n",
       "  'token_str': 'seattle',\n",
       "  'sequence': 'the most beautiful city in the world is seattle.'}]"
      ]
     },
     "execution_count": 32,
     "metadata": {},
     "output_type": "execute_result"
    }
   ],
   "source": [
    "text = \"The most beautiful city in the world is [MASK] .\"\n",
    "\n",
    "fill_mask(text, top_k=5)"
   ]
  },
  {
   "cell_type": "markdown",
   "id": "33f13a57-cab5-4921-8de1-9fb89e985cc9",
   "metadata": {},
   "source": [
    "### AutoTokenizer, AutoModel\n",
    "#### 定义分词模型和预训练模型"
   ]
  },
  {
   "cell_type": "code",
   "execution_count": 41,
   "id": "fd5cccb5-0930-4d8b-9ebd-b67d3c2237cb",
   "metadata": {},
   "outputs": [],
   "source": [
    "from transformers import AutoTokenizer, AutoModel\n",
    "\n",
    "model_name = \"bert-base-uncased\"\n",
    "tokenizer = AutoTokenizer.from_pretrained(model_name)\n",
    "model = AutoModel.from_pretrained(model_name)"
   ]
  },
  {
   "cell_type": "markdown",
   "id": "9a70f40f-9da9-4957-9208-05eb11192f15",
   "metadata": {},
   "source": [
    "#### 分词"
   ]
  },
  {
   "cell_type": "code",
   "execution_count": 42,
   "id": "cd801642-fd30-4829-aa68-acc09193b557",
   "metadata": {},
   "outputs": [
    {
     "name": "stdout",
     "output_type": "stream",
     "text": [
      "['singapore', 'is', 'the', 'most', 'digitally', 'competitive', 'economy', 'in', 'asia', '.']\n"
     ]
    }
   ],
   "source": [
    "# tokenize\n",
    "seq=\"Singapore is the most digitally competitive economy in Asia.\"\n",
    "tokens = tokenizer.tokenize(seq)\n",
    "print(tokens)"
   ]
  },
  {
   "cell_type": "markdown",
   "id": "274f5491-f6b3-44ec-befd-44d75a28c69b",
   "metadata": {},
   "source": [
    "#### 映射到id"
   ]
  },
  {
   "cell_type": "code",
   "execution_count": 43,
   "id": "aaa6bbcb-c346-4e0b-ac81-657cea6c0613",
   "metadata": {},
   "outputs": [
    {
     "name": "stdout",
     "output_type": "stream",
     "text": [
      "[5264, 2003, 1996, 2087, 18397, 6975, 4610, 1999, 4021, 1012]\n"
     ]
    }
   ],
   "source": [
    "# convert_tokens_to_ids\n",
    "token_ids = tokenizer.convert_tokens_to_ids(tokens)\n",
    "print(token_ids)"
   ]
  },
  {
   "cell_type": "markdown",
   "id": "a0c9817d-685c-4842-a2a3-7294578b7907",
   "metadata": {},
   "source": [
    "#### encoder/decoder"
   ]
  },
  {
   "cell_type": "code",
   "execution_count": 44,
   "id": "a67050ec-4561-4a70-a1f0-c2e450620410",
   "metadata": {},
   "outputs": [
    {
     "name": "stdout",
     "output_type": "stream",
     "text": [
      "[101, 5264, 2003, 1996, 2087, 18397, 6975, 4610, 1999, 4021, 1012, 102]\n"
     ]
    }
   ],
   "source": [
    "token_encode_ids=tokenizer.encode(seq)\n",
    "print(token_encode_ids)"
   ]
  },
  {
   "cell_type": "code",
   "execution_count": 45,
   "id": "13dc48de-8523-44f6-bd31-d69e11b13508",
   "metadata": {},
   "outputs": [
    {
     "name": "stdout",
     "output_type": "stream",
     "text": [
      "[CLS] singapore is the most digitally competitive economy in asia. [SEP]\n",
      "singapore is the most digitally competitive economy in asia.\n"
     ]
    }
   ],
   "source": [
    "token1=tokenizer.decode(token_encode_ids)\n",
    "token2=tokenizer.decode(token_ids)\n",
    "print(token1)\n",
    "print(token2)"
   ]
  },
  {
   "cell_type": "markdown",
   "id": "842230ee-42d4-4244-bd6c-ed4a2448b028",
   "metadata": {},
   "source": [
    "### 增加token"
   ]
  },
  {
   "cell_type": "code",
   "execution_count": 46,
   "id": "989d034a-ee49-428c-b903-153532023747",
   "metadata": {},
   "outputs": [
    {
     "data": {
      "text/plain": [
       "30522"
      ]
     },
     "execution_count": 46,
     "metadata": {},
     "output_type": "execute_result"
    }
   ],
   "source": [
    "len(tokenizer.vocab.keys())"
   ]
  },
  {
   "cell_type": "code",
   "execution_count": 47,
   "id": "241ac2f0-5c0f-4a09-9f5e-1d4fb30068ee",
   "metadata": {},
   "outputs": [
    {
     "name": "stdout",
     "output_type": "stream",
     "text": [
      "##0s: 16223\n",
      "loneliness: 20334\n",
      "##rut: 22134\n",
      "[unused78]: 79\n",
      "hairs: 13606\n",
      "##ٹ: 29838\n",
      "carnival: 11485\n",
      "pity: 12063\n",
      "flashback: 21907\n",
      "mosque: 8806\n",
      "disasters: 18665\n",
      "substances: 13978\n",
      "490: 22288\n",
      "charity: 5952\n",
      "mead: 19855\n",
      "[unused785]: 790\n",
      "fiercely: 16265\n",
      "fallout: 23902\n",
      "getting: 2893\n",
      "sparsely: 24961\n",
      "operating: 4082\n",
      "weapon: 5195\n",
      "shut: 3844\n",
      "learners: 26262\n",
      "##tracted: 24301\n",
      "##42: 20958\n",
      "[unused176]: 181\n",
      "javanese: 27344\n",
      "ca: 6187\n",
      "vernacular: 18485\n"
     ]
    }
   ],
   "source": [
    "from itertools import islice\n",
    "\n",
    "# 使用 islice 查看词表部分内容\n",
    "for key, value in islice(tokenizer.vocab.items(), 30):\n",
    "    print(f\"{key}: {value}\")"
   ]
  },
  {
   "cell_type": "code",
   "execution_count": 48,
   "id": "924f1d21-fe07-4825-8cda-c9509b68f5aa",
   "metadata": {},
   "outputs": [],
   "source": [
    "new_tokens = [\"ew\"]"
   ]
  },
  {
   "cell_type": "code",
   "execution_count": 50,
   "id": "cdbbad9b-d6c2-4e19-b740-fd731f6dd40b",
   "metadata": {},
   "outputs": [
    {
     "name": "stdout",
     "output_type": "stream",
     "text": [
      "{'ew'}\n"
     ]
    }
   ],
   "source": [
    "# 将集合作差结果添加到词表中\n",
    "new_tokens = set(new_tokens) - set(tokenizer.vocab.keys())\n",
    "print(new_tokens)"
   ]
  },
  {
   "cell_type": "code",
   "execution_count": 51,
   "id": "2aa2f548-45b0-4f0f-abc4-8e9fe55417fd",
   "metadata": {},
   "outputs": [
    {
     "data": {
      "text/plain": [
       "1"
      ]
     },
     "execution_count": 51,
     "metadata": {},
     "output_type": "execute_result"
    }
   ],
   "source": [
    "# 注意将集合new_tokens变为list\n",
    "tokenizer.add_tokens(list(new_tokens))"
   ]
  },
  {
   "cell_type": "code",
   "execution_count": 52,
   "id": "511218b7-b26c-4d62-bab5-4c75ce9d9082",
   "metadata": {},
   "outputs": [
    {
     "data": {
      "text/plain": [
       "30523"
      ]
     },
     "execution_count": 52,
     "metadata": {},
     "output_type": "execute_result"
    }
   ],
   "source": [
    "len(tokenizer.vocab.keys())"
   ]
  },
  {
   "cell_type": "markdown",
   "id": "2d9b3e95-a85d-4791-85ec-1b1008d2dd91",
   "metadata": {},
   "source": [
    "### 存词表和模型"
   ]
  },
  {
   "cell_type": "code",
   "execution_count": 53,
   "id": "c2592feb-4900-4347-adf2-edd256326652",
   "metadata": {},
   "outputs": [
    {
     "data": {
      "text/plain": [
       "('./models/new-bert-base-uncased/tokenizer_config.json',\n",
       " './models/new-bert-base-uncased/special_tokens_map.json',\n",
       " './models/new-bert-base-uncased/vocab.txt',\n",
       " './models/new-bert-base-uncased/added_tokens.json',\n",
       " './models/new-bert-base-uncased/tokenizer.json')"
      ]
     },
     "execution_count": 53,
     "metadata": {},
     "output_type": "execute_result"
    }
   ],
   "source": [
    "tokenizer.save_pretrained(\"./models/new-bert-base-uncased\")"
   ]
  },
  {
   "cell_type": "code",
   "execution_count": 54,
   "id": "638dd248-27d5-467d-8494-04298d814bc3",
   "metadata": {},
   "outputs": [],
   "source": [
    "model.save_pretrained(\"./models/new-bert-base-uncased\")"
   ]
  },
  {
   "cell_type": "code",
   "execution_count": null,
   "id": "77083748-246e-4b2a-90ea-a9edae907bce",
   "metadata": {},
   "outputs": [],
   "source": []
  }
 ],
 "metadata": {
  "kernelspec": {
   "display_name": "Python 3 (ipykernel)",
   "language": "python",
   "name": "python3"
  },
  "language_info": {
   "codemirror_mode": {
    "name": "ipython",
    "version": 3
   },
   "file_extension": ".py",
   "mimetype": "text/x-python",
   "name": "python",
   "nbconvert_exporter": "python",
   "pygments_lexer": "ipython3",
   "version": "3.11.7"
  }
 },
 "nbformat": 4,
 "nbformat_minor": 5
}
